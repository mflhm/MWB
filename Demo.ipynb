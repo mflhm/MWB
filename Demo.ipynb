{
 "cells": [
  {
   "cell_type": "code",
   "execution_count": 18,
   "id": "binding-glance",
   "metadata": {},
   "outputs": [],
   "source": [
    "import warnings\n",
    "warnings.filterwarnings('ignore')\n",
    "\n",
    "import ipywidgets as widgets\n",
    "from IPython.display import display, clear_output"
   ]
  },
  {
   "cell_type": "code",
   "execution_count": 27,
   "id": "informal-powell",
   "metadata": {
    "scrolled": true
   },
   "outputs": [
    {
     "name": "stderr",
     "output_type": "stream",
     "text": [
      "Enabling notebook extension jupyter-js-widgets/extension...\n",
      "      - Validating: ok\n",
      "Enabling: voila\n",
      "- Writing config: C:\\Users\\melis\\Anaconda3\\envs\\MarsNB\\etc\\jupyter\n",
      "    - Validating...\n",
      "      voila 0.2.16 ok\n"
     ]
    }
   ],
   "source": [
    "#!jupyter nbextension enable --py widgetsnbextension --sys-prefix\n",
    "#!jupyter serverextension enable voila --sys-prefix"
   ]
  },
  {
   "cell_type": "markdown",
   "id": "288e1c8f",
   "metadata": {},
   "source": [
    "# Stroke"
   ]
  },
  {
   "cell_type": "code",
   "execution_count": 20,
   "id": "reflected-speaker",
   "metadata": {},
   "outputs": [
    {
     "data": {
      "application/vnd.jupyter.widget-view+json": {
       "model_id": "757eda77bfc3430c9e8772e4cf37b1c9",
       "version_major": 2,
       "version_minor": 0
      },
      "text/plain": [
       "Image(value=b'\\x89PNG\\r\\n\\x1a\\n\\x00\\x00\\x00\\rIHDR\\x00\\x00\\x04\\xd9\\x00\\x00\\x013\\x08\\x02\\x00\\x00\\x00\\x83\\xadB\\xf…"
      ]
     },
     "metadata": {},
     "output_type": "display_data"
    }
   ],
   "source": [
    "# Image Widget\n",
    "file = open(\"stroke_facts.png\", \"rb\")\n",
    "image = file.read()\n",
    "widgets.Image(\n",
    "    value=image,\n",
    "    format='png',\n",
    "    width=500,\n",
    "    height=300,\n",
    ")"
   ]
  },
  {
   "cell_type": "markdown",
   "id": "744c83d6",
   "metadata": {},
   "source": [
    "Stroke is a disease that affects the arteries leading to and within the brain.A stroke occurs when the blood supply to part of your brain is interrupted or reduced, preventing brain tissue from getting oxygen and nutrients. Brain cells begin to die in minutes. A stroke is a medical emergency, and prompt treatment is crucial. Early action can reduce brain damage and other complications. A stroke occurs when a blood vessel that carries oxygen and nutrients to the brain is either blocked by a clot or bursts (or ruptures).Stroke disease (SD) is a general term for conditions affecting the heart or blood vessels.\n",
    "\n",
    "Every day, 17 people die from cardiovascular disease (heart diseases and stroke) in Singapore. Cardiovascular disease accounted for 29.3% of all deaths in 2019. This means that almost 1 out of 3 deaths in Singapore, is due to heart diseases or stroke."
   ]
  },
  {
   "cell_type": "code",
   "execution_count": 21,
   "id": "reverse-belfast",
   "metadata": {},
   "outputs": [
    {
     "data": {
      "application/vnd.jupyter.widget-view+json": {
       "model_id": "a16c084c3c5a445ca7249360b4c4cbbe",
       "version_major": 2,
       "version_minor": 0
      },
      "text/plain": [
       "Image(value=b'\\xff\\xd8\\xff\\xe1\\x00\\x18Exif\\x00\\x00II*\\x00\\x08\\x00\\x00\\x00\\x00\\x00\\x00\\x00\\x00\\x00\\x00\\x00\\xff\\…"
      ]
     },
     "metadata": {},
     "output_type": "display_data"
    }
   ],
   "source": [
    "file = open(\"types_SD.jpg\", \"rb\")\n",
    "image = file.read()\n",
    "widgets.Image(\n",
    "    value=image,\n",
    "    format='jpg',\n",
    "    width=600,\n",
    "    height=300,\n",
    ")"
   ]
  },
  {
   "cell_type": "markdown",
   "id": "29684453",
   "metadata": {},
   "source": [
    "##**Types of Stroke**\n",
    "There are 3 types of stroke:\n",
    "\n",
    "*   ***Ischemic stroke***: An ischemic stroke occurs when blood flowing through anartery that supplies blood to the brain becomes blocked, most commonly because of a blood clot. Prolonged disruption of blood flow causes the death of brain cells, leading to long-term complications.\n",
    "\n",
    "*   ***Hemorrhagic stroke***: A hemorrhagic stroke occurs when an artery or blood vessel in the brain leaks or bursts open, damaging brain cells.\n",
    "\n",
    "*   ***Transient ischemic attack (TIA)***: A TIA is a mini-stroke that serves as a warning sign of a future stroke. In this case, the disruption of blood flow is only temporary (usually with a duration of less than five minutes) and does not create lasting complications."
   ]
  },
  {
   "cell_type": "code",
   "execution_count": 22,
   "id": "bearing-lover",
   "metadata": {},
   "outputs": [
    {
     "data": {
      "application/vnd.jupyter.widget-view+json": {
       "model_id": "fd4f330509ef4d39878084a341639c95",
       "version_major": 2,
       "version_minor": 0
      },
      "text/plain": [
       "Image(value=b'GIF89a,\\x01,\\x01\\xf7\\x00\\x00\\x01\\x01\\x01\\n\\n\\n\\x16\\x16\\x16\\x10\\r\\t0\\x0c\\x0b\\'\\'(7775--\\x1f\\'!L\\r…"
      ]
     },
     "metadata": {},
     "output_type": "display_data"
    }
   ],
   "source": [
    "file = open(\"causes-of-SD.gif\", \"rb\")\n",
    "image = file.read()\n",
    "widgets.Image(\n",
    "    value=image,\n",
    "    format='gif',\n",
    "    width=600,\n",
    "    height=300,\n",
    ")"
   ]
  },
  {
   "cell_type": "markdown",
   "id": "b2af9571",
   "metadata": {},
   "source": [
    "Causes of SD The exact cause of SD isn't clear, but there are lots of things that can increase your risk of getting it. These are called \"risk factors\".\n",
    "\n",
    "The more risk factors you have, the greater your chances of developing SD.\n",
    "\n",
    "The main risk factors for SD are outlined below.\n",
    "\n",
    "Medical Risk Factors: High blood pressure (hypertension) is one of the most important risk factors for SD. If your blood pressure is too high, it can damage your blood vessels. Smoking Smoking and other tobacco use is also a significant risk factor for SD. The harmful substances in tobacco can damage and narrow your blood vessels. Diabetes Diabetes can make the blood vessels become stiff, and can also cause a build-up of fatty deposits. These changes can lead to a blood clot.\n",
    "\n",
    "Lifestyle Risk Factors: BMI, being overweight or obese can cause stroke. Physical inactivity Drinking Heavy or binge drinking Physical inactivity Use of illegal drugs such as cocaine and methamphetamine"
   ]
  },
  {
   "cell_type": "code",
   "execution_count": 23,
   "id": "headed-bloom",
   "metadata": {},
   "outputs": [
    {
     "data": {
      "application/vnd.jupyter.widget-view+json": {
       "model_id": "75c4885d5f3f4de2ae1ab8e697937783",
       "version_major": 2,
       "version_minor": 0
      },
      "text/plain": [
       "Image(value=b'\\x89PNG\\r\\n\\x1a\\n\\x00\\x00\\x00\\rIHDR\\x00\\x00\\x04\\xd8\\x00\\x00\\x02F\\x08\\x02\\x00\\x00\\x00\\x06h\\xaf\"\\x…"
      ]
     },
     "metadata": {},
     "output_type": "display_data"
    }
   ],
   "source": [
    "file = open(\"prevention_SD.png\", \"rb\")\n",
    "image = file.read()\n",
    "widgets.Image(\n",
    "    value=image,\n",
    "    format='png',\n",
    "    width=600,\n",
    "    height=500,\n",
    ")"
   ]
  },
  {
   "cell_type": "markdown",
   "id": "ebb6171f",
   "metadata": {},
   "source": [
    "Take this self-test to help figure out your stroke risk:\n",
    "\n",
    "\n",
    "DISCLAIMER\n",
    "This test is not a tool for and won’t give you a diagnosis regarding stroke but it will help you decide the next step.\n",
    "\n",
    "The test is intended to be for the purpose of education and guidance in order to help raise awareness of stroke that the user may face to seek professional help if needed."
   ]
  },
  {
   "cell_type": "code",
   "execution_count": 24,
   "id": "naval-night",
   "metadata": {},
   "outputs": [
    {
     "name": "stdout",
     "output_type": "stream",
     "text": [
      "What is your gender?\n"
     ]
    },
    {
     "data": {
      "application/vnd.jupyter.widget-view+json": {
       "model_id": "ec5f575c2c7d4aa8bc5b6f09916086e9",
       "version_major": 2,
       "version_minor": 0
      },
      "text/plain": [
       "RadioButtons(description='Gender', options=('Male', 'Female'), value='Male')"
      ]
     },
     "metadata": {},
     "output_type": "display_data"
    },
    {
     "data": {
      "application/vnd.jupyter.widget-view+json": {
       "model_id": "f93e3cab55d242a390b30fd9d9f96660",
       "version_major": 2,
       "version_minor": 0
      },
      "text/plain": [
       "Text(value='', description='Age:')"
      ]
     },
     "metadata": {},
     "output_type": "display_data"
    },
    {
     "data": {
      "application/vnd.jupyter.widget-view+json": {
       "model_id": "9b263c3e9ebc4fd499e6c57a5c43f453",
       "version_major": 2,
       "version_minor": 0
      },
      "text/plain": [
       "Text(value='', description='Bmi:')"
      ]
     },
     "metadata": {},
     "output_type": "display_data"
    },
    {
     "name": "stdout",
     "output_type": "stream",
     "text": [
      "Do you have any existing health condition(s) such as Diabetes, Hypertension, Heart Disease or other?\n"
     ]
    },
    {
     "data": {
      "application/vnd.jupyter.widget-view+json": {
       "model_id": "6b6b5408db99479a905ab82d5ae3b3ba",
       "version_major": 2,
       "version_minor": 0
      },
      "text/plain": [
       "RadioButtons(description=' ', options=('Yes', 'No'), value='Yes')"
      ]
     },
     "metadata": {},
     "output_type": "display_data"
    },
    {
     "name": "stdout",
     "output_type": "stream",
     "text": [
      "Do you feel significant stress from Relationship, Employment, Environment or others?\n"
     ]
    },
    {
     "data": {
      "application/vnd.jupyter.widget-view+json": {
       "model_id": "88fb5ab8d13343feba3332231d7ee7a2",
       "version_major": 2,
       "version_minor": 0
      },
      "text/plain": [
       "RadioButtons(description=' ', options=('Yes', 'No'), value='Yes')"
      ]
     },
     "metadata": {},
     "output_type": "display_data"
    }
   ],
   "source": [
    "print('What is your gender?')\n",
    "radio_gender = widgets.RadioButtons(\n",
    " options=['Male', 'Female'],\n",
    " description='Gender'\n",
    " )\n",
    "display(radio_gender)\n",
    "\n",
    "age = widgets.Text(\n",
    " value='',\n",
    " description='Age:'\n",
    " )\n",
    "display(age)\n",
    "\n",
    "bmi = widgets.Text(\n",
    " value='',\n",
    " description='Bmi:'\n",
    " )\n",
    "display(bmi)\n",
    "\n",
    "print('Do you have any existing health condition(s) such as Diabetes, Hypertension, Heart Disease or other?')\n",
    "radio_health = widgets.RadioButtons(\n",
    " options=['Yes', 'No'],\n",
    " description=' '\n",
    " )\n",
    "display(radio_health)\n",
    "\n",
    "print('Do you feel significant stress from Relationship, Employment, Environment or others?')\n",
    "radio_stress = widgets.RadioButtons(\n",
    " options=['Yes', 'No'],\n",
    " description=' '\n",
    " )\n",
    "display(radio_stress)"
   ]
  },
  {
   "cell_type": "markdown",
   "id": "322b0ba6",
   "metadata": {},
   "source": [
    "What is your gender? RadioButtons(description='Gender', options=('Male', 'Female'), value='Male') Text(value='', description='Age:') Text(value='', description='BMI:') Do you have any existing health condition(s) such as Diabetes, Hypertension, Heart Disease or other? RadioButtons(description=' ', options=('Yes', 'No'), value='Yes') Do you feel significant stress from Relationship, Employment, Environment or others? RadioButtons(description=' ', options=('Yes', 'No'), value='Yes')"
   ]
  },
  {
   "cell_type": "code",
   "execution_count": 25,
   "id": "thorough-royal",
   "metadata": {},
   "outputs": [
    {
     "data": {
      "application/vnd.jupyter.widget-view+json": {
       "model_id": "8e17b9718a4a491ea58fdc64845c00f4",
       "version_major": 2,
       "version_minor": 0
      },
      "text/plain": [
       "VBox(children=(Button(description='Submit', style=ButtonStyle()), Output()))"
      ]
     },
     "metadata": {},
     "output_type": "display_data"
    }
   ],
   "source": [
    "button = widgets.Button(description='Submit')\n",
    "out = widgets.Output()\n",
    "\n",
    "def on_button_clicked(_):\n",
    "      # \"linking function with output\"\n",
    "      with out:\n",
    "          # what happens when we press the button\n",
    "       try:      \n",
    "          clear_output()\n",
    "          print('Your BMI is: {0}'.format(str(bmi)))  \n",
    "          age1 = float(age.value)      \n",
    "          if (radio_gender.value == 'Female') and (radio_lifestyle.value == 'Both') and (radio_active.value == 'Yes'):\n",
    "                if(bmi <= 26.195 and age1 <= 50.036):\n",
    "                    print('Your risk of Stroke is: 51.6%')\n",
    "                elif(bmi >= 26.195 and age1 <=56.937 ):\n",
    "                    print('Your risk of Stroke is: 50.5% ')\n",
    "                else:\n",
    "                    print('Your risk of Stroke is: 50%')\n",
    "          elif (radio_gender.value == 'Female') and (radio_lifestyle.value == 'Both') and (radio_active.value == 'No'):\n",
    "                if(bmi <= 34.978 and age1 <= 52.522):\n",
    "                    print('Your risk of Stroke is: 58%')\n",
    "                elif(bmi >= 34.978 and age1 <= 57.619):\n",
    "                    print('Your risk of Stroke is: 19.8%')\n",
    "                else:\n",
    "                    print('Your risk of Stroke is: 37.5%')   \n",
    "          elif (radio_gender.value == 'Female') and (radio_lifestyle.value == 'Smoke') and (radio_active.value == 'Yes'):\n",
    "                if(bmi <= 24.912 and age1 <= 58.381):\n",
    "                    print('Your risk of Stroke is: 62.7% ')\n",
    "                elif(bmi >=24.912 and age1 <=53.456):\n",
    "                    print('Your risk of Stroke is: 49.1%')\n",
    "                else:\n",
    "                    print('your risk of Stroke is: 51.4%')\n",
    "          elif (radio_gender.value == 'Female') and (radio_lifestyle.value == 'Smoke') and (radio_active.value == 'No'):\n",
    "                if(bmi >= 23.147 and age1 <= 60.644):\n",
    "                    print('Your risk of Stroke is: 43.3%')\n",
    "                elif(bmi <= 26.271 and age1 <=60.644):\n",
    "                    print('Your risk of Stroke is: 48%')\n",
    "                else:\n",
    "                    print('your risk of Stroke is: 85.8%')\n",
    "          elif (radio_gender.value == 'Female') and (radio_lifestyle.value == 'Drink') and (radio_active.value == 'Yes'):\n",
    "                if(bmi <= 23.559 and age1 >= 50.233):\n",
    "                    print('Your risk of Stroke is: 47.2%')\n",
    "                elif(bmi <= 23.935 and age1 >= 50.233):\n",
    "                    print('Your risk of Stroke is: 46.2%')\n",
    "                else:\n",
    "                    print('your risk of Stroke is: 49.8%')\n",
    "          elif (radio_gender.value == 'Female') and (radio_lifestyle.value == 'Drink') and (radio_active.value == 'No'):\n",
    "                if(bmi <= 31.892 and age1 <= 59.742):\n",
    "                    print('Your risk of Stroke is: 54.4%')\n",
    "                elif(bmi <= 29.972 and age1 <= 59.742):\n",
    "                    print('Your risk of Stroke is: 58.6 %')\n",
    "                else:\n",
    "                    print('your risk of Stroke is: 42.2%')\n",
    "          elif (radio_gender.value == 'Female') and (radio_lifestyle.value == 'Neither') and (radio_active.value == 'Yes'):\n",
    "                if(bmi <= 31.225 and age1 <= 54.919):\n",
    "                    print('Your risk of Stroke is: 53%')\n",
    "                elif(bmi >= 31.225 and age1 <= 44.667):\n",
    "                    print('Your risk of Stroke is: 0.547%')\n",
    "                else:\n",
    "                    print('your risk of Stroke is: 47.8%') \n",
    "          elif (radio_gender.value == 'Female') and (radio_lifestyle.value == 'Neither') and (radio_active.value == 'No'):\n",
    "                if(bmi <= 27.761 and age1 <= 52.147):\n",
    "                    print('Your risk of Stroke is: 52.5%')\n",
    "                elif(bmi >= 27.761 and age1 <= 43.162):\n",
    "                    print('Your risk of Stroke is: 49.9%')\n",
    "                else:\n",
    "                    print('your risk of Stroke is: 47.5%')\n",
    "          \n",
    "          if (radio_gender.value == 'Male') and (radio_lifestyle.value == 'Both') and (radio_active.value == 'Yes'):\n",
    "                if(bmi <= 26.021 and age1 <= 39.742):\n",
    "                    print('Your risk of Stroke is: 64.5%')\n",
    "                elif(bmi <= 26.021 and age1 <=63.633 ):\n",
    "                    print('Your risk of Stroke is: 50.2% ')\n",
    "                else:\n",
    "                    print('Your risk of Stroke is: 32%')\n",
    "          elif (radio_gender.value == 'Male') and (radio_lifestyle.value == 'Both') and (radio_active.value == 'No'):\n",
    "                if(bmi <= 35.499 and age1 <= 57.504):\n",
    "                    print('Your risk of Stroke is: 50.3%')\n",
    "                elif(bmi >= 35.499 and age1 <= 57.504):print('Your risk of Stroke is: 43.7%')\n",
    "                else:\n",
    "                    print('Your risk of Stroke is: 45.3%')   \n",
    "          elif (radio_gender.value == 'Male') and (radio_lifestyle.value == 'Smoke') and (radio_active.value == 'Yes'):\n",
    "                if(bmi <= 24.806 and age1 <= 40.537):\n",
    "                    print('Your risk of Stroke is: 58.9% ')\n",
    "                elif(bmi <=23.021 and age1 >=55.515):\n",
    "                    print('Your risk of Stroke is: 41.7%')\n",
    "                else:\n",
    "                    print('your risk of Stroke is: 48.9%')\n",
    "          elif (radio_gender.value == 'Male') and (radio_lifestyle.value == 'Smoke') and (radio_active.value == 'No'):\n",
    "                if(bmi <= 23.559 and age1 <= 31.861):\n",
    "                    print('Your risk of Stroke is: 42.7%')\n",
    "                elif(bmi <= 21.295 and age1 >=56.236):\n",
    "                    print('Your risk of Stroke is: 48.3%')\n",
    "                else:\n",
    "                    print('your risk of Stroke is: 34.4%')\n",
    "          elif (radio_gender.value == 'Male') and (radio_lifestyle.value == 'Drink') and (radio_active.value == 'Yes'):\n",
    "                if(bmi <= 25.806 and age1 <= 41.818):\n",
    "                    print('Your risk of Stroke is: 63.5%')\n",
    "                elif(bmi >= 28.806 and age1 >= 64.159):\n",
    "                    print('Your risk of Stroke is: 51%')\n",
    "                else:\n",
    "                    print('your risk of Stroke is: 53.2%')\n",
    "          elif (radio_gender.value == 'Male') and (radio_lifestyle.value == 'Drink') and (radio_active.value == 'No'):\n",
    "                if(bmi <= 26.804):\n",
    "                    print('Your risk of Stroke is: 47.7%')\n",
    "                elif(bmi >= 29.757 and age1 >= 47.664):\n",
    "                    print('Your risk of Stroke is: 34.6%')\n",
    "                else:\n",
    "                    print('your risk of Stroke is: 46.4%')\n",
    "          elif (radio_gender.value == 'Male') and (radio_lifestyle.value == 'Neither') and (radio_active.value == 'Yes'):\n",
    "                if(bmi <= 27.474 and age1 <= 43.785):\n",
    "                    print('Your risk of Stroke is: 32.9%')\n",
    "                elif(bmi >= 32.56 and age1 >= 53.323):\n",
    "                    print('Your risk of Stroke is: 39.6%')\n",
    "                else:\n",
    "                    print('your risk of Stroke is: 50%')\n",
    "          elif (radio_gender.value == 'Male') and (radio_lifestyle.value == 'Neither') and (radio_active.value == 'No'):\n",
    "                if(bmi <= 29.4111 and age1 >= 43.985):\n",
    "                    print('Your risk of Stroke is: 50.2%')\n",
    "                elif(bmi >= 28.715 and age1 <= 62.096):\n",
    "                    print('Your risk of Stroke is: 40%')\n",
    "                else:\n",
    "                    print('your risk of Stroke is: 44.2%')\n",
    "       except:\n",
    "        print('Please input integer values only')\n",
    "          \n",
    "# linking button and function together using a button's method\n",
    "button.on_click(on_button_clicked)\n",
    "# displaying button and its output together\n",
    "widgets.VBox([button,out])"
   ]
  },
  {
   "cell_type": "markdown",
   "id": "3dd0fd57",
   "metadata": {},
   "source": [
    "VBox(children=(Button\n",
    "\n",
    "List item\n",
    "List item\n",
    "(description='Submit', style=ButtonStyle()), Output()))"
   ]
  },
  {
   "cell_type": "code",
   "execution_count": 26,
   "id": "earlier-saturday",
   "metadata": {},
   "outputs": [],
   "source": [
    "!pip freeze > requirements.txt"
   ]
  },
  {
   "cell_type": "code",
   "execution_count": null,
   "id": "8bf48187",
   "metadata": {},
   "outputs": [],
   "source": []
  }
 ],
 "metadata": {
  "kernelspec": {
   "display_name": "Python 3 (ipykernel)",
   "language": "python",
   "name": "python3"
  },
  "language_info": {
   "codemirror_mode": {
    "name": "ipython",
    "version": 3
   },
   "file_extension": ".py",
   "mimetype": "text/x-python",
   "name": "python",
   "nbconvert_exporter": "python",
   "pygments_lexer": "ipython3",
   "version": "3.8.12"
  }
 },
 "nbformat": 4,
 "nbformat_minor": 5
}
