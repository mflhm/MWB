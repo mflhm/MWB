{
 "cells": [
  {
   "cell_type": "code",
   "execution_count": 1,
   "id": "binding-glance",
   "metadata": {},
   "outputs": [],
   "source": [
    "import warnings\n",
    "warnings.filterwarnings('ignore')\n",
    "\n",
    "import ipywidgets as widgets\n",
    "from IPython.display import display, clear_output"
   ]
  },
  {
   "cell_type": "code",
   "execution_count": 2,
   "id": "informal-powell",
   "metadata": {
    "scrolled": true
   },
   "outputs": [],
   "source": [
    "#!jupyter nbextension enable --py widgetsnbextension --sys-prefix\n",
    "#!jupyter serverextension enable voila --sys-prefix"
   ]
  },
  {
   "cell_type": "markdown",
   "id": "bc9705c7",
   "metadata": {},
   "source": [
    "# Stroke"
   ]
  },
  {
   "cell_type": "code",
   "execution_count": 3,
   "id": "reflected-speaker",
   "metadata": {},
   "outputs": [
    {
     "data": {
      "application/vnd.jupyter.widget-view+json": {
       "model_id": "678555935e81402583f9d9e68c49b860",
       "version_major": 2,
       "version_minor": 0
      },
      "text/plain": [
       "Image(value=b'\\x89PNG\\r\\n\\x1a\\n\\x00\\x00\\x00\\rIHDR\\x00\\x00\\x04\\xd9\\x00\\x00\\x013\\x08\\x02\\x00\\x00\\x00\\x83\\xadB\\xf…"
      ]
     },
     "metadata": {},
     "output_type": "display_data"
    }
   ],
   "source": [
    "# Image Widget\n",
    "file = open(\"stroke_facts.png\", \"rb\")\n",
    "image = file.read()\n",
    "widgets.Image(\n",
    "    value=image,\n",
    "    format='png',\n",
    "    width=500,\n",
    "    height=300,\n",
    ")"
   ]
  },
  {
   "cell_type": "markdown",
   "id": "744c83d6",
   "metadata": {},
   "source": [
    "Stroke is a disease that affects the arteries leading to and within the brain.A stroke occurs when the blood supply to part of your brain is interrupted or reduced, preventing brain tissue from getting oxygen and nutrients. Brain cells begin to die in minutes. A stroke is a medical emergency, and prompt treatment is crucial. Early action can reduce brain damage and other complications. A stroke occurs when a blood vessel that carries oxygen and nutrients to the brain is either blocked by a clot or bursts (or ruptures).Stroke disease (SD) is a general term for conditions affecting the heart or blood vessels.\n",
    "\n",
    "Every day, 17 people die from cardiovascular disease (heart diseases and stroke) in Singapore."
   ]
  },
  {
   "cell_type": "code",
   "execution_count": 4,
   "id": "reverse-belfast",
   "metadata": {},
   "outputs": [
    {
     "data": {
      "application/vnd.jupyter.widget-view+json": {
       "model_id": "cf9862b560d74d47892e9269b7dcfdb8",
       "version_major": 2,
       "version_minor": 0
      },
      "text/plain": [
       "Image(value=b'\\xff\\xd8\\xff\\xe1\\x00\\x18Exif\\x00\\x00II*\\x00\\x08\\x00\\x00\\x00\\x00\\x00\\x00\\x00\\x00\\x00\\x00\\x00\\xff\\…"
      ]
     },
     "metadata": {},
     "output_type": "display_data"
    }
   ],
   "source": [
    "file = open(\"types_SD.jpg\", \"rb\")\n",
    "image = file.read()\n",
    "widgets.Image(\n",
    "    value=image,\n",
    "    format='jpg',\n",
    "    width=600,\n",
    "    height=300,\n",
    ")"
   ]
  },
  {
   "cell_type": "markdown",
   "id": "29684453",
   "metadata": {},
   "source": [
    "##**Types of Stroke**\n",
    "There are 3 types of stroke:\n",
    "\n",
    "*   ***Ischemic stroke***: An ischemic stroke occurs when blood flowing through anartery that supplies blood to the brain becomes blocked, most commonly because of a blood clot. Prolonged disruption of blood flow causes the death of brain cells, leading to long-term complications.\n",
    "\n",
    "*   ***Hemorrhagic stroke***: A hemorrhagic stroke occurs when an artery or blood vessel in the brain leaks or bursts open, damaging brain cells.\n",
    "\n",
    "*   ***Transient ischemic attack (TIA)***: A TIA is a mini-stroke that serves as a warning sign of a future stroke. In this case, the disruption of blood flow is only temporary (usually with a duration of less than five minutes) and does not create lasting complications."
   ]
  },
  {
   "cell_type": "code",
   "execution_count": 5,
   "id": "bearing-lover",
   "metadata": {},
   "outputs": [
    {
     "data": {
      "application/vnd.jupyter.widget-view+json": {
       "model_id": "39e4bc0971e246759c613324aa3eede3",
       "version_major": 2,
       "version_minor": 0
      },
      "text/plain": [
       "Image(value=b'GIF89a,\\x01,\\x01\\xf7\\x00\\x00\\x01\\x01\\x01\\n\\n\\n\\x16\\x16\\x16\\x10\\r\\t0\\x0c\\x0b\\'\\'(7775--\\x1f\\'!L\\r…"
      ]
     },
     "metadata": {},
     "output_type": "display_data"
    }
   ],
   "source": [
    "file = open(\"causes-of-SD.gif\", \"rb\")\n",
    "image = file.read()\n",
    "widgets.Image(\n",
    "    value=image,\n",
    "    format='gif',\n",
    "    width=600,\n",
    "    height=300,\n",
    ")"
   ]
  },
  {
   "cell_type": "markdown",
   "id": "b2af9571",
   "metadata": {},
   "source": [
    "Causes of SD The exact cause of SD isn't clear, but there are lots of things that can increase your risk of getting it. These are called \"risk factors\".\n",
    "\n",
    "The more risk factors you have, the greater your chances of developing SD.\n",
    "\n",
    "The main risk factors for SD are outlined below.\n",
    "\n",
    "Medical Risk Factors: High blood pressure (hypertension) is one of the most important risk factors for SD. If your blood pressure is too high, it can damage your blood vessels. Smoking Smoking and other tobacco use is also a significant risk factor for SD. The harmful substances in tobacco can damage and narrow your blood vessels. Diabetes Diabetes can make the blood vessels become stiff, and can also cause a build-up of fatty deposits. These changes can lead to a blood clot.\n",
    "\n",
    "Lifestyle Risk Factors: BMI, being overweight or obese can cause stroke. Physical inactivity Drinking Heavy or binge drinking Physical inactivity Use of illegal drugs such as cocaine and methamphetamine"
   ]
  },
  {
   "cell_type": "code",
   "execution_count": 6,
   "id": "headed-bloom",
   "metadata": {},
   "outputs": [
    {
     "data": {
      "application/vnd.jupyter.widget-view+json": {
       "model_id": "5c0ce7a8f31a4e6db13778088f1e1004",
       "version_major": 2,
       "version_minor": 0
      },
      "text/plain": [
       "Image(value=b'\\x89PNG\\r\\n\\x1a\\n\\x00\\x00\\x00\\rIHDR\\x00\\x00\\x04\\xd8\\x00\\x00\\x02F\\x08\\x02\\x00\\x00\\x00\\x06h\\xaf\"\\x…"
      ]
     },
     "metadata": {},
     "output_type": "display_data"
    }
   ],
   "source": [
    "file = open(\"prevention_SD.png\", \"rb\")\n",
    "image = file.read()\n",
    "widgets.Image(\n",
    "    value=image,\n",
    "    format='png',\n",
    "    width=600,\n",
    "    height=500,\n",
    ")"
   ]
  },
  {
   "cell_type": "markdown",
   "id": "ebb6171f",
   "metadata": {},
   "source": [
    "Take this self-test to help figure out your stroke risk:\n",
    "\n",
    "\n",
    "DISCLAIMER\n",
    "This test is not a tool for and won’t give you a diagnosis regarding stroke but it will help you decide the next step.\n",
    "\n",
    "The test is intended to be for the purpose of education and guidance in order to help raise awareness of stroke that the user may face to seek professional help if needed."
   ]
  },
  {
   "cell_type": "code",
   "execution_count": 7,
   "id": "naval-night",
   "metadata": {},
   "outputs": [
    {
     "name": "stdout",
     "output_type": "stream",
     "text": [
      "What is your gender?\n"
     ]
    },
    {
     "data": {
      "application/vnd.jupyter.widget-view+json": {
       "model_id": "ca7b0e88c17540619e4486fdbb960d82",
       "version_major": 2,
       "version_minor": 0
      },
      "text/plain": [
       "RadioButtons(description='Gender', options=('Male', 'Female'), value='Male')"
      ]
     },
     "metadata": {},
     "output_type": "display_data"
    },
    {
     "data": {
      "application/vnd.jupyter.widget-view+json": {
       "model_id": "ae7ec74f0aa549f796f5599342eee2ac",
       "version_major": 2,
       "version_minor": 0
      },
      "text/plain": [
       "Text(value='', description='Age:')"
      ]
     },
     "metadata": {},
     "output_type": "display_data"
    },
    {
     "data": {
      "application/vnd.jupyter.widget-view+json": {
       "model_id": "1eb0632af4f04bef8d01c065f55fa835",
       "version_major": 2,
       "version_minor": 0
      },
      "text/plain": [
       "Text(value='', description='Bmi:')"
      ]
     },
     "metadata": {},
     "output_type": "display_data"
    },
    {
     "name": "stdout",
     "output_type": "stream",
     "text": [
      "Do you have any existing health condition(s) such as Diabetes, Hypertension, Heart Disease or other?\n"
     ]
    },
    {
     "data": {
      "application/vnd.jupyter.widget-view+json": {
       "model_id": "c8f4abe129a146fa922213e63a7df4a2",
       "version_major": 2,
       "version_minor": 0
      },
      "text/plain": [
       "RadioButtons(description=' ', options=('Yes', 'No'), value='Yes')"
      ]
     },
     "metadata": {},
     "output_type": "display_data"
    },
    {
     "name": "stdout",
     "output_type": "stream",
     "text": [
      "Do you feel significant stress from Relationship, Employment, Environment or others?\n"
     ]
    },
    {
     "data": {
      "application/vnd.jupyter.widget-view+json": {
       "model_id": "bc44a8e6966d40469272bffc1916d48a",
       "version_major": 2,
       "version_minor": 0
      },
      "text/plain": [
       "RadioButtons(description=' ', options=('Yes', 'No'), value='Yes')"
      ]
     },
     "metadata": {},
     "output_type": "display_data"
    }
   ],
   "source": [
    "print('What is your gender?')\n",
    "radio_gender = widgets.RadioButtons(\n",
    " options=['Male', 'Female'],\n",
    " description='Gender'\n",
    " )\n",
    "display(radio_gender)\n",
    "\n",
    "age = widgets.Text(\n",
    " value='',\n",
    " description='Age:'\n",
    " )\n",
    "display(age)\n",
    "\n",
    "print('Do you have any existing health condition(s) such as Diabetes, Hypertension, Heart Disease or other?')\n",
    "radio_health = widgets.RadioButtons(\n",
    " options=['Yes', 'No'],\n",
    " description=' '\n",
    " )\n",
    "display(radio_health)\n",
    "\n",
    "print('Do you feel significant stress from Relationship, Employment, Environment or others?')\n",
    "radio_stress = widgets.RadioButtons(\n",
    " options=['Yes', 'No'],\n",
    " description=' '\n",
    " )\n",
    "display(radio_stress)"
   ]
  },
  {
   "cell_type": "code",
   "execution_count": 8,
   "id": "thorough-royal",
   "metadata": {},
   "outputs": [
    {
     "data": {
      "application/vnd.jupyter.widget-view+json": {
       "model_id": "0bbe153ba6e94a999552825b90397f39",
       "version_major": 2,
       "version_minor": 0
      },
      "text/plain": [
       "VBox(children=(Button(description='Submit', style=ButtonStyle()), Output()))"
      ]
     },
     "metadata": {},
     "output_type": "display_data"
    }
   ],
   "source": [
    "button = widgets.Button(description='Submit')\n",
    "out = widgets.Output()\n",
    "\n",
    "def on_button_clicked(_):\n",
    "      # \"linking function with output\"\n",
    "      with out:\n",
    "          # what happens when we press the button\n",
    "       try:      \n",
    "          clear_output()\n",
    "          agee = float(age.value)      \n",
    "          if (radio_gender.value == 'Female') and (radio_health.value == 'Yes') and (radio_stress.value == 'Yes'):\n",
    "                if(agee <= 36):\n",
    "                    print('Your risk of Stroke is less than 25%')\n",
    "                elif(agee >36 && agee <= 49):\n",
    "                    print('Your risk of Stroke is between 25-50%')\n",
    "                elif(agee >49 && agee <= 66):\n",
    "                    print('Your risk of Stroke is between 50-75%')\n",
    "                else:\n",
    "                    print('Your risk of Stroke is higher than 75%')\n",
    "          elif (radio_gender.value == 'Female') and (radio_health.value == 'Yes') and (radio_stress.value == 'No'):\n",
    "               if(agee <= 14):\n",
    "                    print('Your risk of Stroke is less than 25%')\n",
    "                elif(agee >14 && agee <= 35):\n",
    "                    print('Your risk of Stroke is between 25-50%')\n",
    "                elif(agee >35 && agee <= 65):\n",
    "                    print('Your risk of Stroke is between 50-75%')\n",
    "                else:\n",
    "                    print('Your risk of Stroke is higher than 75%')\n",
    "          elif (radio_gender.value == 'Female') and (radio_health.value == 'No') and (radio_stress.value == 'Yes'):\n",
    "               if(agee <= 45):\n",
    "                    print('Your risk of Stroke is less than 25%')\n",
    "                elif(agee >45 && agee <= 62):\n",
    "                    print('Your risk of Stroke is between 25-50%')\n",
    "                elif(agee >62 && agee <= 77):\n",
    "                    print('Your risk of Stroke is between 50-75%')\n",
    "                else:\n",
    "                    print('Your risk of Stroke is higher than 75%')\n",
    "          elif (radio_gender.value == 'Female') and (radio_health.value == 'No') and (radio_stress.value == 'No'):\n",
    "              if(agee <= 45):\n",
    "                    print('Your risk of Stroke is less than 25%')\n",
    "                elif(agee >45 && agee <= 60):\n",
    "                    print('Your risk of Stroke is between 25-50%')\n",
    "                elif(agee >60 && agee <= 77):\n",
    "                    print('Your risk of Stroke is between 50-75%')\n",
    "                else:\n",
    "                    print('Your risk of Stroke is higher than 75%')\n",
    "          \n",
    "          if (radio_gender.value == 'Male') and (radio_health.value == 'Yes') and (radio_stress.value == 'Yes'):\n",
    "                 if(agee <= 45):\n",
    "                    print('Your risk of Stroke is less than 25%')\n",
    "                elif(agee >45 && agee <= 60):\n",
    "                    print('Your risk of Stroke is between 25-50%')\n",
    "                elif(agee >60 && agee <= 68):\n",
    "                    print('Your risk of Stroke is between 50-75%')\n",
    "                else:\n",
    "                    print('Your risk of Stroke is higher than 75%')\n",
    "          elif (radio_gender.value == 'Male') and (radio_health.value == 'Yes') and (radio_stress.value == 'No'):\n",
    "                if(agee <= 45):\n",
    "                    print('Your risk of Stroke is less than 25%')\n",
    "                elif(agee >45 && agee <= 55):\n",
    "                    print('Your risk of Stroke is between 25-50%')\n",
    "                elif(agee >55 && agee <= 70):\n",
    "                    print('Your risk of Stroke is between 50-75%')\n",
    "                else:\n",
    "                    print('Your risk of Stroke is higher than 75%')\n",
    "          elif (radio_gender.value == 'Male') and (radio_health.value == 'No') and (radio_stress.value == 'Yes'):\n",
    "                if(agee <= 52):\n",
    "                    print('Your risk of Stroke is less than 25%')\n",
    "                elif(agee >52 && agee <= 64):\n",
    "                    print('Your risk of Stroke is between 25-50%')\n",
    "                elif(agee >64 && agee <= 78):\n",
    "                    print('Your risk of Stroke is between 50-75%')\n",
    "                else:\n",
    "                    print('Your risk of Stroke is higher than 75%')\n",
    "          elif (radio_gender.value == 'Male') and (radio_health.value == 'No') and (radio_stress.value == 'No'):\n",
    "                if(agee <= 50):\n",
    "                    print('Your risk of Stroke is less than 25%')\n",
    "                elif(agee >50 && agee <= 62):\n",
    "                    print('Your risk of Stroke is between 25-50%')\n",
    "                elif(agee >62 && agee <= 75):\n",
    "                    print('Your risk of Stroke is between 50-75%')\n",
    "                else:\n",
    "                    print('Your risk of Stroke is higher than 75%')\n",
    "       except:\n",
    "        print('Error. Please input integer value(s) for age')\n",
    "          \n",
    "# linking button and function together using a button's method\n",
    "button.on_click(on_button_clicked)\n",
    "# displaying button and its output together\n",
    "widgets.VBox([button,out])"
   ]
  },
  {
   "cell_type": "code",
   "execution_count": 9,
   "id": "earlier-saturday",
   "metadata": {},
   "outputs": [],
   "source": [
    "!pip freeze > requirements.txt"
   ]
  },
  {
   "cell_type": "code",
   "execution_count": null,
   "id": "92a625f8",
   "metadata": {},
   "outputs": [],
   "source": []
  }
 ],
 "metadata": {
  "kernelspec": {
   "display_name": "Python 3 (ipykernel)",
   "language": "python",
   "name": "python3"
  },
  "language_info": {
   "codemirror_mode": {
    "name": "ipython",
    "version": 3
   },
   "file_extension": ".py",
   "mimetype": "text/x-python",
   "name": "python",
   "nbconvert_exporter": "python",
   "pygments_lexer": "ipython3",
   "version": "3.8.12"
  }
 },
 "nbformat": 4,
 "nbformat_minor": 5
}
