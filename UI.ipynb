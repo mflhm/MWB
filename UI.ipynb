{
 "cells": [
  {
   "cell_type": "code",
   "execution_count": 21,
   "id": "binding-glance",
   "metadata": {},
   "outputs": [],
   "source": [
    "import warnings\n",
    "warnings.filterwarnings('ignore')\n",
    "\n",
    "import ipywidgets as widgets\n",
    "from IPython.display import display, clear_output"
   ]
  },
  {
   "cell_type": "code",
   "execution_count": 22,
   "id": "informal-powell",
   "metadata": {
    "scrolled": true
   },
   "outputs": [],
   "source": [
    "#!jupyter nbextension enable --py widgetsnbextension --sys-prefix\n",
    "#!jupyter serverextension enable voila --sys-prefix"
   ]
  },
  {
   "cell_type": "markdown",
   "id": "bc9705c7",
   "metadata": {},
   "source": [
    "# Stroke"
   ]
  },
  {
   "cell_type": "code",
   "execution_count": 23,
   "id": "reflected-speaker",
   "metadata": {
    "scrolled": true
   },
   "outputs": [
    {
     "data": {
      "application/vnd.jupyter.widget-view+json": {
       "model_id": "cbaaccbcaca94c31b54bc022aad52c86",
       "version_major": 2,
       "version_minor": 0
      },
      "text/plain": [
       "Image(value=b'\\x89PNG\\r\\n\\x1a\\n\\x00\\x00\\x00\\rIHDR\\x00\\x00\\x04\\xd9\\x00\\x00\\x013\\x08\\x02\\x00\\x00\\x00\\x83\\xadB\\xf…"
      ]
     },
     "metadata": {},
     "output_type": "display_data"
    }
   ],
   "source": [
    "# Image Widget\n",
    "file = open(\"stroke_facts.png\", \"rb\")\n",
    "image = file.read()\n",
    "widgets.Image(\n",
    "    value=image,\n",
    "    format='png',\n",
    "    width=500,\n",
    "    height=300,\n",
    ")"
   ]
  },
  {
   "cell_type": "markdown",
   "id": "744c83d6",
   "metadata": {},
   "source": [
    "Stroke is a disease that affects the arteries leading to and within the brain.A stroke occurs when the blood supply to part of your brain is interrupted or reduced, preventing brain tissue from getting oxygen and nutrients. Brain cells begin to die in minutes. A stroke is a medical emergency, and prompt treatment is crucial. Early action can reduce brain damage and other complications. A stroke occurs when a blood vessel that carries oxygen and nutrients to the brain is either blocked by a clot or bursts (or ruptures).Stroke disease (SD) is a general term for conditions affecting the heart or blood vessels.\n",
    "\n",
    "Every day, 17 people die from cardiovascular disease (heart diseases and stroke) in Singapore. Cardiovascular disease accounted for 29.3% of all deaths in 2019."
   ]
  },
  {
   "cell_type": "code",
   "execution_count": 24,
   "id": "reverse-belfast",
   "metadata": {},
   "outputs": [
    {
     "data": {
      "application/vnd.jupyter.widget-view+json": {
       "model_id": "5c2b2dd95980405c802c337a958a036c",
       "version_major": 2,
       "version_minor": 0
      },
      "text/plain": [
       "Image(value=b'\\xff\\xd8\\xff\\xe1\\x00\\x18Exif\\x00\\x00II*\\x00\\x08\\x00\\x00\\x00\\x00\\x00\\x00\\x00\\x00\\x00\\x00\\x00\\xff\\…"
      ]
     },
     "metadata": {},
     "output_type": "display_data"
    }
   ],
   "source": [
    "file = open(\"types_SD.jpg\", \"rb\")\n",
    "image = file.read()\n",
    "widgets.Image(\n",
    "    value=image,\n",
    "    format='jpg',\n",
    "    width=600,\n",
    "    height=300,\n",
    ")"
   ]
  },
  {
   "cell_type": "markdown",
   "id": "29684453",
   "metadata": {},
   "source": [
    "##**Types of Stroke**\n",
    "There are 3 types of stroke:\n",
    "\n",
    "*   ***Ischemic stroke***: An ischemic stroke occurs when blood flowing through anartery that supplies blood to the brain becomes blocked, most commonly because of a blood clot. Prolonged disruption of blood flow causes the death of brain cells, leading to long-term complications.\n",
    "\n",
    "*   ***Hemorrhagic stroke***: A hemorrhagic stroke occurs when an artery or blood vessel in the brain leaks or bursts open, damaging brain cells.\n",
    "\n",
    "*   ***Transient ischemic attack (TIA)***: A TIA is a mini-stroke that serves as a warning sign of a future stroke. In this case, the disruption of blood flow is only temporary (usually with a duration of less than five minutes) and does not create lasting complications."
   ]
  },
  {
   "cell_type": "code",
   "execution_count": 25,
   "id": "bearing-lover",
   "metadata": {},
   "outputs": [
    {
     "data": {
      "application/vnd.jupyter.widget-view+json": {
       "model_id": "04029ef45a92449c9f36df97c872889f",
       "version_major": 2,
       "version_minor": 0
      },
      "text/plain": [
       "Image(value=b'GIF89a,\\x01,\\x01\\xf7\\x00\\x00\\x01\\x01\\x01\\n\\n\\n\\x16\\x16\\x16\\x10\\r\\t0\\x0c\\x0b\\'\\'(7775--\\x1f\\'!L\\r…"
      ]
     },
     "metadata": {},
     "output_type": "display_data"
    }
   ],
   "source": [
    "file = open(\"causes-of-SD.gif\", \"rb\")\n",
    "image = file.read()\n",
    "widgets.Image(\n",
    "    value=image,\n",
    "    format='gif',\n",
    "    width=600,\n",
    "    height=300,\n",
    ")"
   ]
  },
  {
   "cell_type": "markdown",
   "id": "b2af9571",
   "metadata": {},
   "source": [
    "Causes of SD The exact cause of SD isn't clear, but there are lots of things that can increase your risk of getting it. These are called \"risk factors\".\n",
    "\n",
    "The more risk factors you have, the greater your chances of developing SD.\n",
    "\n",
    "The main risk factors for SD are outlined below.\n",
    "\n",
    "Medical Risk Factors: High blood pressure (hypertension) is one of the most important risk factors for SD. If your blood pressure is too high, it can damage your blood vessels. Smoking Smoking and other tobacco use is also a significant risk factor for SD. The harmful substances in tobacco can damage and narrow your blood vessels. Diabetes Diabetes can make the blood vessels become stiff, and can also cause a build-up of fatty deposits. These changes can lead to a blood clot.\n",
    "\n",
    "Lifestyle Risk Factors: BMI, being overweight or obese can cause stroke. Physical inactivity Drinking Heavy or binge drinking Physical inactivity Use of illegal drugs such as cocaine and methamphetamine"
   ]
  },
  {
   "cell_type": "code",
   "execution_count": 26,
   "id": "headed-bloom",
   "metadata": {},
   "outputs": [
    {
     "data": {
      "application/vnd.jupyter.widget-view+json": {
       "model_id": "6255640dbdb7450abf7ae8aa2d5a21a8",
       "version_major": 2,
       "version_minor": 0
      },
      "text/plain": [
       "Image(value=b'\\x89PNG\\r\\n\\x1a\\n\\x00\\x00\\x00\\rIHDR\\x00\\x00\\x04\\xd8\\x00\\x00\\x02F\\x08\\x02\\x00\\x00\\x00\\x06h\\xaf\"\\x…"
      ]
     },
     "metadata": {},
     "output_type": "display_data"
    }
   ],
   "source": [
    "file = open(\"prevention_SD.png\", \"rb\")\n",
    "image = file.read()\n",
    "widgets.Image(\n",
    "    value=image,\n",
    "    format='png',\n",
    "    width=600,\n",
    "    height=500,\n",
    ")"
   ]
  },
  {
   "cell_type": "markdown",
   "id": "ebb6171f",
   "metadata": {},
   "source": [
    "Take this self-test to help figure out your stroke risk:\n",
    "\n",
    "\n",
    "DISCLAIMER\n",
    "This test is not a tool for and won’t give you a diagnosis regarding stroke but it will help you decide the next step.\n",
    "\n",
    "The test is intended to be for the purpose of education and guidance in order to help raise awareness of stroke that the user may face to seek professional help if needed."
   ]
  },
  {
   "cell_type": "code",
   "execution_count": 28,
   "id": "9a455a6e",
   "metadata": {},
   "outputs": [
    {
     "name": "stdout",
     "output_type": "stream",
     "text": [
      "What is your gender?\n"
     ]
    },
    {
     "data": {
      "application/vnd.jupyter.widget-view+json": {
       "model_id": "8211e0a76d4242139ab7a373ac0078c7",
       "version_major": 2,
       "version_minor": 0
      },
      "text/plain": [
       "RadioButtons(description='Gender', options=('Male', 'Female'), value='Male')"
      ]
     },
     "metadata": {},
     "output_type": "display_data"
    },
    {
     "data": {
      "application/vnd.jupyter.widget-view+json": {
       "model_id": "1108efd8bc5044aa8cc679124fe6b6c2",
       "version_major": 2,
       "version_minor": 0
      },
      "text/plain": [
       "Text(value='', description='Age:')"
      ]
     },
     "metadata": {},
     "output_type": "display_data"
    },
    {
     "data": {
      "application/vnd.jupyter.widget-view+json": {
       "model_id": "ceb72776c6484fe6ad95d3662a659959",
       "version_major": 2,
       "version_minor": 0
      },
      "text/plain": [
       "Text(value='', description='Bmi:')"
      ]
     },
     "metadata": {},
     "output_type": "display_data"
    },
    {
     "name": "stdout",
     "output_type": "stream",
     "text": [
      "Do you have any existing health condition(s) such as Diabetes, Hypertension, Heart Disease or other?\n"
     ]
    },
    {
     "data": {
      "application/vnd.jupyter.widget-view+json": {
       "model_id": "57a58f4afe764b18b4ddf1a9afcc5afb",
       "version_major": 2,
       "version_minor": 0
      },
      "text/plain": [
       "RadioButtons(description=' ', options=('Yes', 'No'), value='Yes')"
      ]
     },
     "metadata": {},
     "output_type": "display_data"
    },
    {
     "name": "stdout",
     "output_type": "stream",
     "text": [
      "Do you feel significant stress from Relationship, Employment, Environment or others?\n"
     ]
    },
    {
     "data": {
      "application/vnd.jupyter.widget-view+json": {
       "model_id": "bd48a202132b4ab9ad5b96f1d2f1a327",
       "version_major": 2,
       "version_minor": 0
      },
      "text/plain": [
       "RadioButtons(description=' ', options=('Yes', 'No'), value='Yes')"
      ]
     },
     "metadata": {},
     "output_type": "display_data"
    }
   ],
   "source": [
    "print('What is your gender?')\n",
    "radio_gender = widgets.RadioButtons(\n",
    " options=['Male', 'Female'],\n",
    " description='Gender'\n",
    " )\n",
    "display(radio_gender)\n",
    "\n",
    "ageee = widgets.Text(\n",
    " value='',\n",
    " description='Age:'\n",
    " )\n",
    "display(ageee)\n",
    "\n",
    "bmiii = widgets.Text(\n",
    " value='',\n",
    " description='Bmi:'\n",
    " )\n",
    "display(bmiii)\n",
    "\n",
    "print('Do you have any existing health condition(s) such as Diabetes, Hypertension, Heart Disease or other?')\n",
    "radio_health = widgets.RadioButtons(\n",
    " options=['Yes', 'No'],\n",
    " description=' '\n",
    " )\n",
    "display(radio_health)\n",
    "\n",
    "print('Do you feel significant stress from Relationship, Employment, Environment or others?')\n",
    "radio_stress = widgets.RadioButtons(\n",
    " options=['Yes', 'No'],\n",
    " description=' '\n",
    " )\n",
    "display(radio_stress)"
   ]
  },
  {
   "cell_type": "code",
   "execution_count": 29,
   "id": "2f93d01b",
   "metadata": {},
   "outputs": [],
   "source": [
    "import numpy as np\n",
    "import pandas as pd\n",
    "import seaborn as sb\n",
    "import seaborn as sns\n",
    "import matplotlib.pyplot as plt\n",
    "sb.set()\n",
    "## balance sample\n",
    "from imblearn.over_sampling import SMOTE\n",
    "\n",
    "## split train and test\n",
    "from sklearn.model_selection import train_test_split\n",
    "\n",
    "## scale numerical values\n",
    "from sklearn import preprocessing\n",
    "from sklearn.preprocessing import LabelEncoder\n",
    "\n",
    "## models\n",
    "from sklearn.ensemble import RandomForestClassifier\n",
    "from sklearn.tree import DecisionTreeClassifier\n",
    "from sklearn.linear_model import LogisticRegression\n",
    "\n",
    "## accuracy check\n",
    "from sklearn.metrics import accuracy_score, precision_score, recall_score, f1_score, classification_report\n",
    "from sklearn.metrics import roc_curve, auc\n",
    "from sklearn.metrics import confusion_matrix"
   ]
  },
  {
   "cell_type": "code",
   "execution_count": 30,
   "id": "cf11c58c",
   "metadata": {},
   "outputs": [],
   "source": [
    "def linreg_pred (df,gender):\n",
    "    \n",
    "    dataset1 = pd.read_csv('stroke_data_female.csv')\n",
    "    dataset2 = pd.read_csv('stroke_data_male.csv')\n",
    "    if gender == 0: #female\n",
    "        x = dataset1.drop(columns=['stroke'], axis = 1, inplace = False)\n",
    "        y = dataset1['stroke']\n",
    "        \n",
    "        df_ver1 = x.copy()\n",
    "        smote = SMOTE(sampling_strategy = 'minority')\n",
    "        x_sm, y_sm = smote.fit_resample(df_ver1,y)\n",
    "            \n",
    "        x_train, x_test, y_train, y_test = train_test_split(x_sm,y_sm, test_size=0.2, random_state=42)\n",
    "    \n",
    "        lr = LogisticRegression(solver='liblinear', C=10.0, random_state=0)    \n",
    "        lr.fit(x_train,y_train)\n",
    "    \n",
    "        pred_lr = lr.predict(df)\n",
    "        pred_prob_lr = lr.predict_proba(df)\n",
    "        if (pred_lr == 0):\n",
    "            pred_prob_out = pred_prob_lr[0,0]\n",
    "        if (pred_lr ==1):\n",
    "            pred_prob_out = pred_prob_lr[0,1]\n",
    "        print(\"The probability of getting Stroke is \",pred_prob_lr[0,1]*100, '%')\n",
    "        return pred_lr,pred_prob_lr\n",
    "    if gender == 1: #male\n",
    "        x = dataset2.drop(columns=['stroke'], axis = 1, inplace = False)\n",
    "        y = dataset2['stroke']\n",
    "        \n",
    "        df_ver1 = x.copy()\n",
    "        smote = SMOTE(sampling_strategy = 'minority')\n",
    "        x_sm, y_sm = smote.fit_resample(df_ver1,y)\n",
    "            \n",
    "        x_train, x_test, y_train, y_test = train_test_split(x_sm,y_sm, test_size=0.2, random_state=42)\n",
    "    \n",
    "        lr = LogisticRegression(solver='liblinear', C=10.0, random_state=0)    \n",
    "        lr.fit(x_train,y_train)\n",
    "    \n",
    "        pred_lr = lr.predict(df)\n",
    "        pred_prob_lr = lr.predict_proba(df)\n",
    "        if (pred_lr == 0):\n",
    "            pred_prob_out = pred_prob_lr[0,0]\n",
    "        if (pred_lr ==1):\n",
    "            pred_prob_out = pred_prob_lr[0,1]\n",
    "        print(\"The probability of getting Stroke is \",pred_prob_lr[0,1]*100, '%')\n",
    "        return pred_lr,pred_prob_lr"
   ]
  },
  {
   "cell_type": "code",
   "execution_count": 31,
   "id": "e6ba9a63",
   "metadata": {},
   "outputs": [],
   "source": [
    "def get_input(age=50,health_cond=0,living_env=0,bmi=29):\n",
    "    sample_df = pd.DataFrame(columns = ['age','living_environment','bmi','health condition'])\n",
    "    new_row = {\n",
    "        #'gender':gender, \n",
    "        'age':age,\n",
    "        'living_environment':living_env,\n",
    "        'bmi':bmi,\n",
    "        'health condition': health_cond,\n",
    "        }\n",
    "    if (0 in sample_df.index):\n",
    "        sample_df.drop([0], inplace = True)\n",
    "    sample_df = sample_df.append(new_row, ignore_index=True)\n",
    "    sample_df = sample_df.reset_index(drop = True)\n",
    "    return(sample_df)"
   ]
  },
  {
   "cell_type": "code",
   "execution_count": 32,
   "id": "bdc62c70",
   "metadata": {},
   "outputs": [],
   "source": [
    "def stroke_pred(gender=0,age=50,health_cond=0,living_env=0,bmi=29):\n",
    "    input = get_input(age,health_cond,living_env,bmi)\n",
    "    output = linreg_pred(input, gender)\n",
    "    return output"
   ]
  },
  {
   "cell_type": "code",
   "execution_count": 38,
   "id": "77d52306",
   "metadata": {},
   "outputs": [
    {
     "ename": "SyntaxError",
     "evalue": "unexpected EOF while parsing (<ipython-input-38-737b6707b2ba>, line 28)",
     "output_type": "error",
     "traceback": [
      "\u001b[1;36m  File \u001b[1;32m\"<ipython-input-38-737b6707b2ba>\"\u001b[1;36m, line \u001b[1;32m28\u001b[0m\n\u001b[1;33m    \u001b[0m\n\u001b[1;37m    ^\u001b[0m\n\u001b[1;31mSyntaxError\u001b[0m\u001b[1;31m:\u001b[0m unexpected EOF while parsing\n"
     ]
    }
   ],
   "source": [
    "def on_button_clicked(_):\n",
    "      # \"linking function with output\"\n",
    "      with out:\n",
    "          # what happens when we press the button\n",
    "       try:      \n",
    "          clear_output()\n",
    "            \n",
    "          bmii = float(bmiii.value)      \n",
    "          agee = float(ageee.value)\n",
    "            \n",
    "          if (radio_gender.value == 'Female'):\n",
    "            rgender=1\n",
    "          else: \n",
    "            rgender=0  \n",
    "        \n",
    "          if (radio_health.value == 'Yes'):\n",
    "            rhealth=1\n",
    "          else:\n",
    "            rhealth=0\n",
    "            \n",
    "          if (radio_stress.value == 'Yes'):\n",
    "            rstress=1\n",
    "          else:\n",
    "            rstress=0   \n",
    "        \n",
    "          x, y = stroke_pred(gender=rgender,age=agee,health_cond=rhealth,living_env=rstress,bmi=bmii)\n",
    "          print(\"The probability of getting Stroke is \",pred_prob_lr[0,1]*100, '%')\n",
    "            \n"
   ]
  },
  {
   "cell_type": "code",
   "execution_count": null,
   "id": "earlier-saturday",
   "metadata": {},
   "outputs": [],
   "source": [
    "!pip freeze > requirements.txt"
   ]
  },
  {
   "cell_type": "code",
   "execution_count": null,
   "id": "92a625f8",
   "metadata": {},
   "outputs": [],
   "source": []
  }
 ],
 "metadata": {
  "kernelspec": {
   "display_name": "Python 3",
   "language": "python",
   "name": "python3"
  },
  "language_info": {
   "codemirror_mode": {
    "name": "ipython",
    "version": 3
   },
   "file_extension": ".py",
   "mimetype": "text/x-python",
   "name": "python",
   "nbconvert_exporter": "python",
   "pygments_lexer": "ipython3",
   "version": "3.8.8"
  }
 },
 "nbformat": 4,
 "nbformat_minor": 5
}
